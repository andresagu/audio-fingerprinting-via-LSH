{
 "cells": [
  {
   "cell_type": "markdown",
   "id": "7054b504-67a0-4d04-8727-90a874af4979",
   "metadata": {},
   "source": [
    "First we must install external audio analysis libs"
   ]
  },
  {
   "cell_type": "code",
   "execution_count": 5,
   "id": "f2419609-f6aa-43b7-9db8-c3c7e8643bbb",
   "metadata": {},
   "outputs": [
    {
     "name": "stdout",
     "output_type": "stream",
     "text": [
      "Collecting librosa\n",
      "  Using cached librosa-0.9.1-py3-none-any.whl (213 kB)\n",
      "Requirement already satisfied: scikit-learn>=0.19.1 in /opt/conda/lib/python3.9/site-packages (from librosa) (0.24.2)\n",
      "Collecting resampy>=0.2.2\n",
      "  Using cached resampy-0.2.2-py3-none-any.whl\n",
      "Requirement already satisfied: scipy>=1.2.0 in /opt/conda/lib/python3.9/site-packages (from librosa) (1.7.1)\n",
      "Requirement already satisfied: numpy>=1.17.0 in /opt/conda/lib/python3.9/site-packages (from librosa) (1.21.1)\n",
      "Requirement already satisfied: packaging>=20.0 in /opt/conda/lib/python3.9/site-packages (from librosa) (21.0)\n",
      "Requirement already satisfied: joblib>=0.14 in /opt/conda/lib/python3.9/site-packages (from librosa) (1.0.1)\n",
      "Collecting audioread>=2.1.5\n",
      "  Using cached audioread-2.1.9-py3-none-any.whl\n",
      "Collecting soundfile>=0.10.2\n",
      "  Using cached SoundFile-0.10.3.post1-py2.py3-none-any.whl (21 kB)\n",
      "Requirement already satisfied: decorator>=4.0.10 in /opt/conda/lib/python3.9/site-packages (from librosa) (5.0.9)\n",
      "Requirement already satisfied: pooch>=1.0 in /opt/conda/lib/python3.9/site-packages (from librosa) (1.4.0)\n",
      "Requirement already satisfied: numba>=0.45.1 in /opt/conda/lib/python3.9/site-packages (from librosa) (0.53.1)\n",
      "Requirement already satisfied: llvmlite<0.37,>=0.36.0rc1 in /opt/conda/lib/python3.9/site-packages (from numba>=0.45.1->librosa) (0.36.0)\n",
      "Requirement already satisfied: setuptools in /opt/conda/lib/python3.9/site-packages (from numba>=0.45.1->librosa) (49.6.0.post20210108)\n",
      "Requirement already satisfied: pyparsing>=2.0.2 in /opt/conda/lib/python3.9/site-packages (from packaging>=20.0->librosa) (2.4.7)\n",
      "Requirement already satisfied: appdirs in /opt/conda/lib/python3.9/site-packages (from pooch>=1.0->librosa) (1.4.4)\n",
      "Requirement already satisfied: requests in /opt/conda/lib/python3.9/site-packages (from pooch>=1.0->librosa) (2.26.0)\n",
      "Requirement already satisfied: six>=1.3 in /opt/conda/lib/python3.9/site-packages (from resampy>=0.2.2->librosa) (1.16.0)\n",
      "Requirement already satisfied: threadpoolctl>=2.0.0 in /opt/conda/lib/python3.9/site-packages (from scikit-learn>=0.19.1->librosa) (2.2.0)\n",
      "Requirement already satisfied: cffi>=1.0 in /opt/conda/lib/python3.9/site-packages (from soundfile>=0.10.2->librosa) (1.14.6)\n",
      "Requirement already satisfied: pycparser in /opt/conda/lib/python3.9/site-packages (from cffi>=1.0->soundfile>=0.10.2->librosa) (2.20)\n",
      "Requirement already satisfied: urllib3<1.27,>=1.21.1 in /opt/conda/lib/python3.9/site-packages (from requests->pooch>=1.0->librosa) (1.26.6)\n",
      "Requirement already satisfied: charset-normalizer~=2.0.0 in /opt/conda/lib/python3.9/site-packages (from requests->pooch>=1.0->librosa) (2.0.0)\n",
      "Requirement already satisfied: idna<4,>=2.5 in /opt/conda/lib/python3.9/site-packages (from requests->pooch>=1.0->librosa) (3.1)\n",
      "Requirement already satisfied: certifi>=2017.4.17 in /opt/conda/lib/python3.9/site-packages (from requests->pooch>=1.0->librosa) (2021.10.8)\n",
      "Installing collected packages: soundfile, resampy, audioread, librosa\n",
      "Successfully installed audioread-2.1.9 librosa-0.9.1 resampy-0.2.2 soundfile-0.10.3.post1\n",
      "Collecting essentia\n",
      "  Using cached essentia-2.1b6.dev778-cp39-cp39-manylinux_2_17_x86_64.manylinux2014_x86_64.whl (13.7 MB)\n",
      "Requirement already satisfied: pyyaml in /opt/conda/lib/python3.9/site-packages (from essentia) (5.4.1)\n",
      "Requirement already satisfied: numpy>=1.8.2 in /opt/conda/lib/python3.9/site-packages (from essentia) (1.21.1)\n",
      "Requirement already satisfied: six in /opt/conda/lib/python3.9/site-packages (from essentia) (1.16.0)\n",
      "Installing collected packages: essentia\n",
      "Successfully installed essentia-2.1b6.dev778\n"
     ]
    }
   ],
   "source": [
    "# Install a pip package in the current Jupyter kernel\n",
    "import sys\n",
    "!{sys.executable} -m pip install librosa\n",
    "!{sys.executable} -m pip install essentia\n"
   ]
  },
  {
   "cell_type": "code",
   "execution_count": 6,
   "id": "e84206ef-398e-49ba-a42b-cd5e4bbad90b",
   "metadata": {},
   "outputs": [
    {
     "name": "stderr",
     "output_type": "stream",
     "text": [
      "[   INFO   ] MusicExtractorSVM: no classifier models were configured by default\n"
     ]
    }
   ],
   "source": [
    "import numpy as np\n",
    "import pandas as pd\n",
    "import os\n",
    "import essentia.standard as es\n",
    "import librosa"
   ]
  },
  {
   "cell_type": "code",
   "execution_count": 92,
   "id": "5ae62d3d-c020-4259-a11f-d42da4987cf4",
   "metadata": {},
   "outputs": [
    {
     "name": "stdout",
     "output_type": "stream",
     "text": [
      "generating features for Independent Music Licensing Collective (IMLC) - Hot Sand.mp3\n"
     ]
    },
    {
     "name": "stderr",
     "output_type": "stream",
     "text": [
      "[   INFO   ] MusicExtractor: Read metadata\n",
      "[   INFO   ] MusicExtractor: Compute md5 audio hash, codec, length, and EBU 128 loudness\n",
      "[   INFO   ] MusicExtractor: Replay gain\n",
      "[   INFO   ] MusicExtractor: Compute audio features\n",
      "[   INFO   ] MusicExtractor: Compute aggregation\n",
      "[   INFO   ] All done\n",
      "/opt/conda/lib/python3.9/site-packages/librosa/util/decorators.py:88: UserWarning: PySoundFile failed. Trying audioread instead.\n",
      "  return f(*args, **kwargs)\n"
     ]
    },
    {
     "name": "stdout",
     "output_type": "stream",
     "text": [
      "finished feature generation for Independent Music Licensing Collective (IMLC) - Hot Sand.mp3\n",
      "creating feature vector\n",
      "finished creating vector\n",
      "appending feature vec and clearing for next song\n",
      "generating features for One Man Book - Heresy of Paraphrase.mp3\n"
     ]
    },
    {
     "name": "stderr",
     "output_type": "stream",
     "text": [
      "[   INFO   ] MusicExtractor: Read metadata\n",
      "[   INFO   ] MusicExtractor: Compute md5 audio hash, codec, length, and EBU 128 loudness\n",
      "[   INFO   ] MusicExtractor: Replay gain\n",
      "[   INFO   ] MusicExtractor: Compute audio features\n",
      "[   INFO   ] MusicExtractor: Compute aggregation\n",
      "[   INFO   ] All done\n",
      "/opt/conda/lib/python3.9/site-packages/librosa/util/decorators.py:88: UserWarning: PySoundFile failed. Trying audioread instead.\n",
      "  return f(*args, **kwargs)\n"
     ]
    },
    {
     "name": "stdout",
     "output_type": "stream",
     "text": [
      "finished feature generation for One Man Book - Heresy of Paraphrase.mp3\n",
      "creating feature vector\n",
      "finished creating vector\n",
      "appending feature vec and clearing for next song\n",
      "generating features for AKMV-18 - Quantum Metanoia.mp3\n"
     ]
    },
    {
     "name": "stderr",
     "output_type": "stream",
     "text": [
      "[   INFO   ] MusicExtractor: Read metadata\n",
      "/opt/conda/lib/python3.9/site-packages/librosa/util/decorators.py:88: UserWarning: PySoundFile failed. Trying audioread instead.\n",
      "  return f(*args, **kwargs)\n",
      "[   INFO   ] MusicExtractor: Compute md5 audio hash, codec, length, and EBU 128 loudness\n",
      "[   INFO   ] MusicExtractor: Replay gain\n",
      "[   INFO   ] MusicExtractor: Compute audio features\n",
      "[   INFO   ] MusicExtractor: Compute aggregation\n",
      "[   INFO   ] All done\n"
     ]
    },
    {
     "name": "stdout",
     "output_type": "stream",
     "text": [
      "finished feature generation for AKMV-18 - Quantum Metanoia.mp3\n",
      "creating feature vector\n",
      "finished creating vector\n",
      "appending feature vec and clearing for next song\n",
      "generating features for Metre - Viscid.mp3\n"
     ]
    },
    {
     "name": "stderr",
     "output_type": "stream",
     "text": [
      "[   INFO   ] MusicExtractor: Read metadata\n",
      "[   INFO   ] MusicExtractor: Compute md5 audio hash, codec, length, and EBU 128 loudness\n",
      "[   INFO   ] MusicExtractor: Replay gain\n",
      "[   INFO   ] MusicExtractor: Compute audio features\n",
      "[   INFO   ] MusicExtractor: Compute aggregation\n",
      "[   INFO   ] All done\n",
      "/opt/conda/lib/python3.9/site-packages/librosa/util/decorators.py:88: UserWarning: PySoundFile failed. Trying audioread instead.\n",
      "  return f(*args, **kwargs)\n"
     ]
    },
    {
     "name": "stdout",
     "output_type": "stream",
     "text": [
      "finished feature generation for Metre - Viscid.mp3\n",
      "creating feature vector\n",
      "finished creating vector\n",
      "appending feature vec and clearing for next song\n",
      "generating features for PSRV - Toca Raul - STUDIO RAW.mp3\n"
     ]
    },
    {
     "name": "stderr",
     "output_type": "stream",
     "text": [
      "[   INFO   ] MusicExtractor: Read metadata\n",
      "[   INFO   ] MusicExtractor: Compute md5 audio hash, codec, length, and EBU 128 loudness\n",
      "[   INFO   ] MusicExtractor: Replay gain\n",
      "[   INFO   ] MusicExtractor: Compute audio features\n",
      "[   INFO   ] MusicExtractor: Compute aggregation\n",
      "[   INFO   ] All done\n",
      "/opt/conda/lib/python3.9/site-packages/librosa/util/decorators.py:88: UserWarning: PySoundFile failed. Trying audioread instead.\n",
      "  return f(*args, **kwargs)\n"
     ]
    },
    {
     "name": "stdout",
     "output_type": "stream",
     "text": [
      "finished feature generation for PSRV - Toca Raul - STUDIO RAW.mp3\n",
      "creating feature vector\n",
      "finished creating vector\n",
      "appending feature vec and clearing for next song\n",
      "generating features for M33 Project - FolkPorts.mp3\n"
     ]
    },
    {
     "name": "stderr",
     "output_type": "stream",
     "text": [
      "[   INFO   ] MusicExtractor: Read metadata\n",
      "[   INFO   ] MusicExtractor: Compute md5 audio hash, codec, length, and EBU 128 loudness\n",
      "[   INFO   ] MusicExtractor: Replay gain\n",
      "[   INFO   ] MusicExtractor: Compute audio features\n",
      "[   INFO   ] MusicExtractor: Compute aggregation\n",
      "[   INFO   ] All done\n",
      "/opt/conda/lib/python3.9/site-packages/librosa/util/decorators.py:88: UserWarning: PySoundFile failed. Trying audioread instead.\n",
      "  return f(*args, **kwargs)\n"
     ]
    },
    {
     "name": "stdout",
     "output_type": "stream",
     "text": [
      "finished feature generation for M33 Project - FolkPorts.mp3\n",
      "creating feature vector\n",
      "finished creating vector\n",
      "appending feature vec and clearing for next song\n",
      "generating features for Audiobinger - Pre-Game Warm Up.mp3\n"
     ]
    },
    {
     "name": "stderr",
     "output_type": "stream",
     "text": [
      "[   INFO   ] MusicExtractor: Read metadata\n",
      "[   INFO   ] MusicExtractor: Compute md5 audio hash, codec, length, and EBU 128 loudness\n",
      "[   INFO   ] MusicExtractor: Replay gain\n",
      "[   INFO   ] MusicExtractor: Compute audio features\n",
      "[   INFO   ] MusicExtractor: Compute aggregation\n",
      "[   INFO   ] All done\n",
      "/opt/conda/lib/python3.9/site-packages/librosa/util/decorators.py:88: UserWarning: PySoundFile failed. Trying audioread instead.\n",
      "  return f(*args, **kwargs)\n"
     ]
    },
    {
     "name": "stdout",
     "output_type": "stream",
     "text": [
      "finished feature generation for Audiobinger - Pre-Game Warm Up.mp3\n",
      "creating feature vector\n",
      "finished creating vector\n",
      "appending feature vec and clearing for next song\n",
      "generating features for Mr Smith - AB-CD.mp3\n"
     ]
    },
    {
     "name": "stderr",
     "output_type": "stream",
     "text": [
      "[   INFO   ] MusicExtractor: Read metadata\n",
      "[   INFO   ] MusicExtractor: Compute md5 audio hash, codec, length, and EBU 128 loudness\n",
      "[   INFO   ] MusicExtractor: Replay gain\n",
      "[   INFO   ] MusicExtractor: Compute audio features\n",
      "[   INFO   ] MusicExtractor: Compute aggregation\n",
      "[   INFO   ] All done\n",
      "/opt/conda/lib/python3.9/site-packages/librosa/util/decorators.py:88: UserWarning: PySoundFile failed. Trying audioread instead.\n",
      "  return f(*args, **kwargs)\n"
     ]
    },
    {
     "name": "stdout",
     "output_type": "stream",
     "text": [
      "finished feature generation for Mr Smith - AB-CD.mp3\n",
      "creating feature vector\n",
      "finished creating vector\n",
      "appending feature vec and clearing for next song\n",
      "generating features for Lobo Loco - Technomagus Meeting (ID 502).mp3\n"
     ]
    },
    {
     "name": "stderr",
     "output_type": "stream",
     "text": [
      "[   INFO   ] MusicExtractor: Read metadata\n",
      "[   INFO   ] MusicExtractor: Compute md5 audio hash, codec, length, and EBU 128 loudness\n",
      "[   INFO   ] MusicExtractor: Replay gain\n",
      "[   INFO   ] MusicExtractor: Compute audio features\n",
      "[   INFO   ] MusicExtractor: Compute aggregation\n",
      "[   INFO   ] All done\n",
      "/opt/conda/lib/python3.9/site-packages/librosa/util/decorators.py:88: UserWarning: PySoundFile failed. Trying audioread instead.\n",
      "  return f(*args, **kwargs)\n"
     ]
    },
    {
     "name": "stdout",
     "output_type": "stream",
     "text": [
      "finished feature generation for Lobo Loco - Technomagus Meeting (ID 502).mp3\n",
      "creating feature vector\n",
      "finished creating vector\n",
      "appending feature vec and clearing for next song\n",
      "generating features for Blue Ducks - Floss Suffers From Gamma Radiation.mp3\n"
     ]
    },
    {
     "name": "stderr",
     "output_type": "stream",
     "text": [
      "[   INFO   ] MusicExtractor: Read metadata\n",
      "[   INFO   ] MusicExtractor: Compute md5 audio hash, codec, length, and EBU 128 loudness\n",
      "[   INFO   ] MusicExtractor: Replay gain\n",
      "[   INFO   ] MusicExtractor: Compute audio features\n",
      "[   INFO   ] MusicExtractor: Compute aggregation\n",
      "[   INFO   ] All done\n",
      "/opt/conda/lib/python3.9/site-packages/librosa/util/decorators.py:88: UserWarning: PySoundFile failed. Trying audioread instead.\n",
      "  return f(*args, **kwargs)\n"
     ]
    },
    {
     "name": "stdout",
     "output_type": "stream",
     "text": [
      "finished feature generation for Blue Ducks - Floss Suffers From Gamma Radiation.mp3\n",
      "creating feature vector\n",
      "finished creating vector\n",
      "appending feature vec and clearing for next song\n",
      "generating features for Jahzzar - Siesta.mp3\n"
     ]
    },
    {
     "name": "stderr",
     "output_type": "stream",
     "text": [
      "[   INFO   ] MusicExtractor: Read metadata\n",
      "/opt/conda/lib/python3.9/site-packages/librosa/util/decorators.py:88: UserWarning: PySoundFile failed. Trying audioread instead.\n",
      "  return f(*args, **kwargs)\n",
      "[   INFO   ] MusicExtractor: Compute md5 audio hash, codec, length, and EBU 128 loudness\n",
      "[   INFO   ] MusicExtractor: Replay gain\n",
      "[   INFO   ] MusicExtractor: Compute audio features\n",
      "[   INFO   ] MusicExtractor: Compute aggregation\n",
      "[   INFO   ] All done\n"
     ]
    },
    {
     "name": "stdout",
     "output_type": "stream",
     "text": [
      "finished feature generation for Jahzzar - Siesta.mp3\n",
      "creating feature vector\n",
      "finished creating vector\n",
      "appending feature vec and clearing for next song\n",
      "generating features for Jahzzar - Birthday Cake.mp3\n"
     ]
    },
    {
     "name": "stderr",
     "output_type": "stream",
     "text": [
      "[   INFO   ] MusicExtractor: Read metadata\n",
      "[   INFO   ] MusicExtractor: Compute md5 audio hash, codec, length, and EBU 128 loudness\n",
      "[   INFO   ] MusicExtractor: Replay gain\n",
      "[   INFO   ] MusicExtractor: Compute audio features\n",
      "[   INFO   ] MusicExtractor: Compute aggregation\n",
      "[   INFO   ] All done\n",
      "/opt/conda/lib/python3.9/site-packages/librosa/util/decorators.py:88: UserWarning: PySoundFile failed. Trying audioread instead.\n",
      "  return f(*args, **kwargs)\n"
     ]
    },
    {
     "name": "stdout",
     "output_type": "stream",
     "text": [
      "finished feature generation for Jahzzar - Birthday Cake.mp3\n",
      "creating feature vector\n",
      "finished creating vector\n",
      "appending feature vec and clearing for next song\n",
      "generating features for Independent Music Licensing Collective (IMLC) - Get up and Go.mp3\n"
     ]
    },
    {
     "name": "stderr",
     "output_type": "stream",
     "text": [
      "[   INFO   ] MusicExtractor: Read metadata\n",
      "[   INFO   ] MusicExtractor: Compute md5 audio hash, codec, length, and EBU 128 loudness\n",
      "[   INFO   ] MusicExtractor: Replay gain\n",
      "[   INFO   ] MusicExtractor: Compute audio features\n",
      "[   INFO   ] MusicExtractor: Compute aggregation\n",
      "[   INFO   ] All done\n",
      "/opt/conda/lib/python3.9/site-packages/librosa/util/decorators.py:88: UserWarning: PySoundFile failed. Trying audioread instead.\n",
      "  return f(*args, **kwargs)\n"
     ]
    },
    {
     "name": "stdout",
     "output_type": "stream",
     "text": [
      "finished feature generation for Independent Music Licensing Collective (IMLC) - Get up and Go.mp3\n",
      "creating feature vector\n",
      "finished creating vector\n",
      "appending feature vec and clearing for next song\n",
      "generating features for Audiobinger - Dream Big.mp3\n"
     ]
    },
    {
     "name": "stderr",
     "output_type": "stream",
     "text": [
      "[   INFO   ] MusicExtractor: Read metadata\n",
      "[   INFO   ] MusicExtractor: Compute md5 audio hash, codec, length, and EBU 128 loudness\n",
      "[   INFO   ] MusicExtractor: Replay gain\n",
      "[   INFO   ] MusicExtractor: Compute audio features\n",
      "[   INFO   ] MusicExtractor: Compute aggregation\n",
      "[   INFO   ] All done\n",
      "/opt/conda/lib/python3.9/site-packages/librosa/util/decorators.py:88: UserWarning: PySoundFile failed. Trying audioread instead.\n",
      "  return f(*args, **kwargs)\n"
     ]
    },
    {
     "name": "stdout",
     "output_type": "stream",
     "text": [
      "finished feature generation for Audiobinger - Dream Big.mp3\n",
      "creating feature vector\n",
      "finished creating vector\n",
      "appending feature vec and clearing for next song\n",
      "generating features for Windom Earle - kirblooey.mp3\n"
     ]
    },
    {
     "name": "stderr",
     "output_type": "stream",
     "text": [
      "[   INFO   ] MusicExtractor: Read metadata\n",
      "[   INFO   ] MusicExtractor: Compute md5 audio hash, codec, length, and EBU 128 loudness\n",
      "[   INFO   ] MusicExtractor: Replay gain\n",
      "[   INFO   ] MusicExtractor: Compute audio features\n",
      "[   INFO   ] MusicExtractor: Compute aggregation\n",
      "[   INFO   ] All done\n",
      "/opt/conda/lib/python3.9/site-packages/librosa/util/decorators.py:88: UserWarning: PySoundFile failed. Trying audioread instead.\n",
      "  return f(*args, **kwargs)\n"
     ]
    },
    {
     "name": "stdout",
     "output_type": "stream",
     "text": [
      "finished feature generation for Windom Earle - kirblooey.mp3\n",
      "creating feature vector\n",
      "finished creating vector\n",
      "appending feature vec and clearing for next song\n",
      "                                                 song   loudness    energy  \\\n",
      "0   Independent Music Licensing Collective (IMLC) ...  -8.784393  0.274500   \n",
      "1             One Man Book - Heresy of Paraphrase.mp3 -13.526387  0.140073   \n",
      "2                      AKMV-18 - Quantum Metanoia.mp3 -13.709229  0.122383   \n",
      "3                                  Metre - Viscid.mp3 -13.276937  0.148825   \n",
      "4                   PSRV - Toca Raul - STUDIO RAW.mp3  -0.877343  0.599803   \n",
      "5                         M33 Project - FolkPorts.mp3 -11.881506  0.152173   \n",
      "6                  Audiobinger - Pre-Game Warm Up.mp3 -10.930477  0.211538   \n",
      "7                                Mr Smith - AB-CD.mp3 -14.197141  0.138444   \n",
      "8        Lobo Loco - Technomagus Meeting (ID 502).mp3 -10.673089  0.238694   \n",
      "9   Blue Ducks - Floss Suffers From Gamma Radiatio... -11.565697  0.257053   \n",
      "10                               Jahzzar - Siesta.mp3 -11.840921  0.148653   \n",
      "11                        Jahzzar - Birthday Cake.mp3 -11.725418  0.181394   \n",
      "12  Independent Music Licensing Collective (IMLC) ... -10.917216  0.210185   \n",
      "13                        Audiobinger - Dream Big.mp3  -7.876832  0.300162   \n",
      "14                       Windom Earle - kirblooey.mp3 -17.197521  0.078721   \n",
      "\n",
      "    chroma_1  chroma_2  chroma_3  chroma_4  chroma_5  chroma_6  chroma_7  \\\n",
      "0   0.253995  0.366471  0.470985  0.271383  0.347818  0.196811  0.310890   \n",
      "1   0.346041  0.270265  0.243985  0.499794  0.291615  0.431015  0.198675   \n",
      "2   0.348625  0.488760  0.486687  0.378523  0.417280  0.456749  0.626518   \n",
      "3   0.656225  0.571515  0.527145  0.521314  0.466644  0.439942  0.420603   \n",
      "4   0.290823  0.351870  0.447432  0.409944  0.624397  0.463457  0.336520   \n",
      "5   0.198102  0.215866  0.447313  0.221759  0.192497  0.183563  0.154258   \n",
      "6   0.351126  0.305202  0.311085  0.437736  0.678825  0.392248  0.414208   \n",
      "7   0.303869  0.371715  0.512024  0.345544  0.470262  0.334374  0.307438   \n",
      "8   0.335935  0.566485  0.886827  0.765080  0.436374  0.336729  0.262469   \n",
      "9   0.517462  0.321291  0.326017  0.420460  0.354401  0.482336  0.302315   \n",
      "10  0.292960  0.201920  0.388229  0.207586  0.375157  0.169176  0.314572   \n",
      "11  0.400483  0.375744  0.357037  0.428273  0.476233  0.327167  0.387736   \n",
      "12  0.323535  0.393475  0.581250  0.373821  0.333489  0.265650  0.379347   \n",
      "13  0.297533  0.272664  0.241316  0.359890  0.410726  0.342392  0.404216   \n",
      "14  0.327564  0.463087  0.387996  0.307735  0.505175  0.456434  0.508974   \n",
      "\n",
      "    chroma_8  chroma_9  chroma_10  chroma_11  chroma_12  \n",
      "0   0.256855  0.207593   0.398532   0.234156   0.418004  \n",
      "1   0.239827  0.303878   0.176792   0.317171   0.206771  \n",
      "2   0.417459  0.449273   0.477663   0.388033   0.458003  \n",
      "3   0.450136  0.454105   0.443838   0.436772   0.499724  \n",
      "4   0.334082  0.351558   0.525208   0.400708   0.301829  \n",
      "5   0.261122  0.185046   0.487576   0.175781   0.145815  \n",
      "6   0.506244  0.494974   0.510304   0.375964   0.426643  \n",
      "7   0.434192  0.476175   0.702733   0.375882   0.385552  \n",
      "8   0.259924  0.214466   0.273935   0.226187   0.248150  \n",
      "9   0.415022  0.373128   0.277958   0.477183   0.379995  \n",
      "10  0.345920  0.279656   0.429500   0.248669   0.431710  \n",
      "11  0.295271  0.440400   0.412150   0.410417   0.603541  \n",
      "12  0.523575  0.403196   0.472847   0.337198   0.435919  \n",
      "13  0.376464  0.465023   0.343439   0.473563   0.589508  \n",
      "14  0.362423  0.344522   0.395702   0.402626   0.395200  \n"
     ]
    }
   ],
   "source": [
    "\n",
    "# assign directory\n",
    "directory = './sample_music'\n",
    "\n",
    "feature_vecs = pd.DataFrame()\n",
    "\n",
    "# iterate over files in\n",
    "# that directory\n",
    "for filename in os.listdir(directory):\n",
    "    f = os.path.join(directory, filename)\n",
    "    feature_vec = pd.DataFrame()\n",
    "    # checking if it is a file\n",
    "    if os.path.isfile(f):\n",
    "        \n",
    "        print('generating features for ' + filename)\n",
    "        # Compute all features, aggregate only 'mean' and 'stdev' statistics for all low-level, rhythm and tonal frame features\n",
    "        features, features_frames = es.MusicExtractor(lowlevelStats=['mean', 'stdev'])(f)\n",
    "        \n",
    "        #Loading into librosa\n",
    "        y, sr = librosa.load(f)\n",
    "        hop_length = 512\n",
    "        frame_length = 1024\n",
    "        n_fft = 1\n",
    "        \n",
    "        #generating energy and chromagram features\n",
    "        rmse = librosa.feature.rms(y = y , center=True)\n",
    "        chromagram = librosa.feature.chroma_stft(y=y, sr=sr, hop_length=hop_length)\n",
    "        \n",
    "        print('finished feature generation for ' + filename)\n",
    "        print('creating feature vector')\n",
    "        \n",
    "        song_name = pd.DataFrame({'song': [filename]})\n",
    "        feature_vec['song'] = song_name\n",
    "        \n",
    "        loudness = pd.DataFrame({'loudness': [features['lowlevel.loudness_ebu128.integrated']]})\n",
    "        feature_vec['loudness'] = loudness\n",
    "        \n",
    "        energy_df = pd.DataFrame({'energy': [np.mean(rmse)]})\n",
    "        feature_vec['energy'] = energy_df\n",
    "        \n",
    "        #condensing chromagram data\n",
    "        chromagram_mean = np.mean(chromagram, axis=1)\n",
    "        sdict =\"\"\n",
    "        i=1\n",
    "        for s in chromagram_mean:\n",
    "          sdict += \"'chroma_{0}':[{1}],\".format(i,str(s)) \n",
    "          i+=1\n",
    "\n",
    "        sdict = \"{\"+sdict+\"}\"\n",
    "        \n",
    "        chroma_df = pd.DataFrame.from_dict(eval(sdict))\n",
    "        feature_vec[chroma_df.columns] = chroma_df\n",
    "        \n",
    "        print('finished creating vector')\n",
    "        \n",
    "    print('appending feature vec and clearing for next song')\n",
    "    feature_vecs = feature_vecs.append(other = feature_vec, ignore_index = True)\n",
    "    del feature_vec\n",
    "    \n",
    "print(feature_vecs)\n",
    "        "
   ]
  },
  {
   "cell_type": "code",
   "execution_count": 86,
   "id": "574fe2da-746a-4041-b5e3-ecb3aab93d88",
   "metadata": {},
   "outputs": [],
   "source": [
    "del feature_vecs"
   ]
  },
  {
   "cell_type": "code",
   "execution_count": 93,
   "id": "67c92c1c-a78d-4aa6-a005-f9cff641ec4e",
   "metadata": {},
   "outputs": [],
   "source": [
    "song_names_df = feature_vecs['song']"
   ]
  },
  {
   "cell_type": "code",
   "execution_count": 94,
   "id": "d5c92c7f-91f8-494d-8bf6-4ccb6fa60145",
   "metadata": {},
   "outputs": [
    {
     "name": "stdout",
     "output_type": "stream",
     "text": [
      "0     Independent Music Licensing Collective (IMLC) ...\n",
      "1               One Man Book - Heresy of Paraphrase.mp3\n",
      "2                        AKMV-18 - Quantum Metanoia.mp3\n",
      "3                                    Metre - Viscid.mp3\n",
      "4                     PSRV - Toca Raul - STUDIO RAW.mp3\n",
      "5                           M33 Project - FolkPorts.mp3\n",
      "6                    Audiobinger - Pre-Game Warm Up.mp3\n",
      "7                                  Mr Smith - AB-CD.mp3\n",
      "8          Lobo Loco - Technomagus Meeting (ID 502).mp3\n",
      "9     Blue Ducks - Floss Suffers From Gamma Radiatio...\n",
      "10                                 Jahzzar - Siesta.mp3\n",
      "11                          Jahzzar - Birthday Cake.mp3\n",
      "12    Independent Music Licensing Collective (IMLC) ...\n",
      "13                          Audiobinger - Dream Big.mp3\n",
      "14                         Windom Earle - kirblooey.mp3\n",
      "Name: song, dtype: object\n"
     ]
    }
   ],
   "source": [
    "print(song_names_df)"
   ]
  },
  {
   "cell_type": "code",
   "execution_count": 95,
   "id": "23497391-5502-4fa4-b639-4f2e9bfd6a9b",
   "metadata": {},
   "outputs": [],
   "source": [
    "song_feats_df = feature_vecs.iloc[:,1:15]"
   ]
  },
  {
   "cell_type": "code",
   "execution_count": 96,
   "id": "79e7d191-293c-471f-a50e-28892a234247",
   "metadata": {},
   "outputs": [
    {
     "name": "stdout",
     "output_type": "stream",
     "text": [
      "     loudness    energy  chroma_1  chroma_2  chroma_3  chroma_4  chroma_5  \\\n",
      "0   -8.784393  0.274500  0.253995  0.366471  0.470985  0.271383  0.347818   \n",
      "1  -13.526387  0.140073  0.346041  0.270265  0.243985  0.499794  0.291615   \n",
      "2  -13.709229  0.122383  0.348625  0.488760  0.486687  0.378523  0.417280   \n",
      "3  -13.276937  0.148825  0.656225  0.571515  0.527145  0.521314  0.466644   \n",
      "4   -0.877343  0.599803  0.290823  0.351870  0.447432  0.409944  0.624397   \n",
      "5  -11.881506  0.152173  0.198102  0.215866  0.447313  0.221759  0.192497   \n",
      "6  -10.930477  0.211538  0.351126  0.305202  0.311085  0.437736  0.678825   \n",
      "7  -14.197141  0.138444  0.303869  0.371715  0.512024  0.345544  0.470262   \n",
      "8  -10.673089  0.238694  0.335935  0.566485  0.886827  0.765080  0.436374   \n",
      "9  -11.565697  0.257053  0.517462  0.321291  0.326017  0.420460  0.354401   \n",
      "10 -11.840921  0.148653  0.292960  0.201920  0.388229  0.207586  0.375157   \n",
      "11 -11.725418  0.181394  0.400483  0.375744  0.357037  0.428273  0.476233   \n",
      "12 -10.917216  0.210185  0.323535  0.393475  0.581250  0.373821  0.333489   \n",
      "13  -7.876832  0.300162  0.297533  0.272664  0.241316  0.359890  0.410726   \n",
      "14 -17.197521  0.078721  0.327564  0.463087  0.387996  0.307735  0.505175   \n",
      "\n",
      "    chroma_6  chroma_7  chroma_8  chroma_9  chroma_10  chroma_11  chroma_12  \n",
      "0   0.196811  0.310890  0.256855  0.207593   0.398532   0.234156   0.418004  \n",
      "1   0.431015  0.198675  0.239827  0.303878   0.176792   0.317171   0.206771  \n",
      "2   0.456749  0.626518  0.417459  0.449273   0.477663   0.388033   0.458003  \n",
      "3   0.439942  0.420603  0.450136  0.454105   0.443838   0.436772   0.499724  \n",
      "4   0.463457  0.336520  0.334082  0.351558   0.525208   0.400708   0.301829  \n",
      "5   0.183563  0.154258  0.261122  0.185046   0.487576   0.175781   0.145815  \n",
      "6   0.392248  0.414208  0.506244  0.494974   0.510304   0.375964   0.426643  \n",
      "7   0.334374  0.307438  0.434192  0.476175   0.702733   0.375882   0.385552  \n",
      "8   0.336729  0.262469  0.259924  0.214466   0.273935   0.226187   0.248150  \n",
      "9   0.482336  0.302315  0.415022  0.373128   0.277958   0.477183   0.379995  \n",
      "10  0.169176  0.314572  0.345920  0.279656   0.429500   0.248669   0.431710  \n",
      "11  0.327167  0.387736  0.295271  0.440400   0.412150   0.410417   0.603541  \n",
      "12  0.265650  0.379347  0.523575  0.403196   0.472847   0.337198   0.435919  \n",
      "13  0.342392  0.404216  0.376464  0.465023   0.343439   0.473563   0.589508  \n",
      "14  0.456434  0.508974  0.362423  0.344522   0.395702   0.402626   0.395200  \n"
     ]
    }
   ],
   "source": [
    "print(song_feats_df)"
   ]
  },
  {
   "cell_type": "code",
   "execution_count": 97,
   "id": "78cc3107-a239-4876-9201-a3ab7925242d",
   "metadata": {},
   "outputs": [
    {
     "name": "stdout",
     "output_type": "stream",
     "text": [
      "/home/jovyan/audio-fingerprinting-via-LSH/python/music_processing\n"
     ]
    }
   ],
   "source": [
    "print(os.getcwd())"
   ]
  },
  {
   "cell_type": "code",
   "execution_count": 102,
   "id": "d20ad4f1-2f82-4f83-8bde-40b4abad7fa3",
   "metadata": {},
   "outputs": [],
   "source": [
    "song_names_df.to_csv(path_or_buf = './exports/song_names.csv', sep = ',', index = False)"
   ]
  },
  {
   "cell_type": "code",
   "execution_count": 103,
   "id": "7f18a0ec-d340-44ad-b943-9551f84ce02d",
   "metadata": {},
   "outputs": [],
   "source": [
    "song_feats_df.to_csv(path_or_buf = './exports/song_feats.csv', sep = ',', index = False)"
   ]
  },
  {
   "cell_type": "code",
   "execution_count": null,
   "id": "4c3bc0b0-45a2-41ea-91c8-21b80396f81b",
   "metadata": {},
   "outputs": [],
   "source": []
  }
 ],
 "metadata": {
  "kernelspec": {
   "display_name": "Python 3 (ipykernel)",
   "language": "python",
   "name": "python3"
  },
  "language_info": {
   "codemirror_mode": {
    "name": "ipython",
    "version": 3
   },
   "file_extension": ".py",
   "mimetype": "text/x-python",
   "name": "python",
   "nbconvert_exporter": "python",
   "pygments_lexer": "ipython3",
   "version": "3.9.6"
  }
 },
 "nbformat": 4,
 "nbformat_minor": 5
}
